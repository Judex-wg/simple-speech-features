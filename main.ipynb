{
 "cells": [
  {
   "cell_type": "markdown",
   "metadata": {},
   "source": [
    "# Imports"
   ]
  },
  {
   "cell_type": "code",
   "execution_count": 1,
   "metadata": {},
   "outputs": [
    {
     "name": "stdout",
     "output_type": "stream",
     "text": [
      "Requirement already satisfied: praat-parselmouth in /Users/uzaymacar/anaconda3/lib/python3.7/site-packages (0.3.3)\r\n",
      "Requirement already satisfied: numpy>=1.7.0 in /Users/uzaymacar/anaconda3/lib/python3.7/site-packages (from praat-parselmouth) (1.16.4)\r\n"
     ]
    }
   ],
   "source": [
    "import pandas as pd\n",
    "\n",
    "!pip install praat-parselmouth\n",
    "import parselmouth\n",
    "\n",
    "from feature_extraction_utils import *"
   ]
  },
  {
   "cell_type": "markdown",
   "metadata": {},
   "source": [
    "# Read in Sample Sound File (.wav)"
   ]
  },
  {
   "cell_type": "code",
   "execution_count": 2,
   "metadata": {},
   "outputs": [],
   "source": [
    "sound_filepath = 'sample.wav'\n",
    "sound = parselmouth.Sound(sound_filepath)\n",
    "df = pd.DataFrame()"
   ]
  },
  {
   "cell_type": "markdown",
   "metadata": {},
   "source": [
    "# Extract Features"
   ]
  },
  {
   "cell_type": "code",
   "execution_count": 3,
   "metadata": {},
   "outputs": [],
   "source": [
    "attributes = {}\n",
    "\n",
    "intensity_attributes = get_intensity_attributes(sound)[0]\n",
    "pitch_attributes = get_pitch_attributes(sound)[0]\n",
    "attributes.update(intensity_attributes)\n",
    "attributes.update(pitch_attributes)\n",
    "\n",
    "hnr_attributes = get_harmonics_to_noise_ratio_attributes(sound)[0]\n",
    "gne_attributes = get_glottal_to_noise_ratio_attributes(sound)[0]\n",
    "attributes.update(hnr_attributes)\n",
    "attributes.update(gne_attributes)\n",
    "\n",
    "df['local_jitter'] = None\n",
    "df['local_shimmer'] = None\n",
    "df.at[0, 'local_jitter'] = get_local_jitter(sound)\n",
    "df.at[0, 'local_shimmer'] = get_local_shimmer(sound)\n",
    "\n",
    "spectrum_attributes = get_spectrum_attributes(sound)[0]\n",
    "attributes.update(spectrum_attributes)\n",
    "\n",
    "formant_attributes = get_formant_attributes(sound)[0]\n",
    "attributes.update(formant_attributes)\n",
    "\n",
    "lfcc_matrix, mfcc_matrix = get_lfcc(sound), get_mfcc(sound)\n",
    "df['lfcc'] = None\n",
    "df['mfcc'] = None\n",
    "df.at[0, 'lfcc'] = lfcc_matrix\n",
    "df.at[0, 'mfcc'] = mfcc_matrix\n",
    "\n",
    "delta_mfcc_matrix = get_delta(mfcc_matrix)\n",
    "delta_delta_mfcc_matrix = get_delta(delta_mfcc_matrix)\n",
    "df['delta_mfcc'] = None\n",
    "df['delta_delta_mfcc'] = None\n",
    "df.at[0, 'delta_mfcc'] = delta_mfcc_matrix\n",
    "df.at[0, 'delta_delta_mfcc'] = delta_delta_mfcc_matrix\n",
    "\n",
    "for attribute in attributes:\n",
    "    df.at[0, attribute] = attributes[attribute]\n",
    "    \n",
    "df.at[0, 'sound_filepath'] = sound_filepath\n",
    "rearranged_columns = df.columns.tolist()[-1:] + df.columns.tolist()[:-1]\n",
    "df = df[rearranged_columns]"
   ]
  },
  {
   "cell_type": "markdown",
   "metadata": {},
   "source": [
    "# Visualize Features"
   ]
  },
  {
   "cell_type": "code",
   "execution_count": 4,
   "metadata": {},
   "outputs": [
    {
     "data": {
      "text/html": [
       "<div>\n",
       "<style scoped>\n",
       "    .dataframe tbody tr th:only-of-type {\n",
       "        vertical-align: middle;\n",
       "    }\n",
       "\n",
       "    .dataframe tbody tr th {\n",
       "        vertical-align: top;\n",
       "    }\n",
       "\n",
       "    .dataframe thead th {\n",
       "        text-align: right;\n",
       "    }\n",
       "</style>\n",
       "<table border=\"1\" class=\"dataframe\">\n",
       "  <thead>\n",
       "    <tr style=\"text-align: right;\">\n",
       "      <th></th>\n",
       "      <th>sound_filepath</th>\n",
       "      <th>local_jitter</th>\n",
       "      <th>local_shimmer</th>\n",
       "      <th>lfcc</th>\n",
       "      <th>mfcc</th>\n",
       "      <th>delta_mfcc</th>\n",
       "      <th>delta_delta_mfcc</th>\n",
       "      <th>min_intensity</th>\n",
       "      <th>relative_min_intensity_time</th>\n",
       "      <th>max_intensity</th>\n",
       "      <th>...</th>\n",
       "      <th>f1_median</th>\n",
       "      <th>f2_median</th>\n",
       "      <th>f3_median</th>\n",
       "      <th>f4_median</th>\n",
       "      <th>formant_dispersion</th>\n",
       "      <th>average_formant</th>\n",
       "      <th>mff</th>\n",
       "      <th>fitch_vtl</th>\n",
       "      <th>delta_f</th>\n",
       "      <th>vtl_delta_f</th>\n",
       "    </tr>\n",
       "  </thead>\n",
       "  <tbody>\n",
       "    <tr>\n",
       "      <td>0</td>\n",
       "      <td>sample.wav</td>\n",
       "      <td>0.0268438</td>\n",
       "      <td>0.0978643</td>\n",
       "      <td>[[-0.05431217830930484, 0.05285244343900683, -...</td>\n",
       "      <td>[[70.51424251467743, 33.14143488496505, 45.545...</td>\n",
       "      <td>[[5.945542519810594, -4.017987084089242, 7.127...</td>\n",
       "      <td>[[-0.5935564105623996, 0.822749125054675, -4.8...</td>\n",
       "      <td>37.617361</td>\n",
       "      <td>0.977288</td>\n",
       "      <td>77.765843</td>\n",
       "      <td>...</td>\n",
       "      <td>377.805905</td>\n",
       "      <td>1169.953315</td>\n",
       "      <td>2174.813447</td>\n",
       "      <td>3112.286328</td>\n",
       "      <td>911.493474</td>\n",
       "      <td>1708.714749</td>\n",
       "      <td>1315.17852</td>\n",
       "      <td>21.348392</td>\n",
       "      <td>870.184223</td>\n",
       "      <td>20.110684</td>\n",
       "    </tr>\n",
       "  </tbody>\n",
       "</table>\n",
       "<p>1 rows × 61 columns</p>\n",
       "</div>"
      ],
      "text/plain": [
       "  sound_filepath local_jitter local_shimmer  \\\n",
       "0     sample.wav    0.0268438     0.0978643   \n",
       "\n",
       "                                                lfcc  \\\n",
       "0  [[-0.05431217830930484, 0.05285244343900683, -...   \n",
       "\n",
       "                                                mfcc  \\\n",
       "0  [[70.51424251467743, 33.14143488496505, 45.545...   \n",
       "\n",
       "                                          delta_mfcc  \\\n",
       "0  [[5.945542519810594, -4.017987084089242, 7.127...   \n",
       "\n",
       "                                    delta_delta_mfcc  min_intensity  \\\n",
       "0  [[-0.5935564105623996, 0.822749125054675, -4.8...      37.617361   \n",
       "\n",
       "   relative_min_intensity_time  max_intensity  ...   f1_median    f2_median  \\\n",
       "0                     0.977288      77.765843  ...  377.805905  1169.953315   \n",
       "\n",
       "     f3_median    f4_median  formant_dispersion  average_formant         mff  \\\n",
       "0  2174.813447  3112.286328          911.493474      1708.714749  1315.17852   \n",
       "\n",
       "   fitch_vtl     delta_f  vtl_delta_f  \n",
       "0  21.348392  870.184223    20.110684  \n",
       "\n",
       "[1 rows x 61 columns]"
      ]
     },
     "execution_count": 4,
     "metadata": {},
     "output_type": "execute_result"
    }
   ],
   "source": [
    "df"
   ]
  }
 ],
 "metadata": {
  "kernelspec": {
   "display_name": "Python 3",
   "language": "python",
   "name": "python3"
  },
  "language_info": {
   "codemirror_mode": {
    "name": "ipython",
    "version": 3
   },
   "file_extension": ".py",
   "mimetype": "text/x-python",
   "name": "python",
   "nbconvert_exporter": "python",
   "pygments_lexer": "ipython3",
   "version": "3.7.4"
  }
 },
 "nbformat": 4,
 "nbformat_minor": 2
}
